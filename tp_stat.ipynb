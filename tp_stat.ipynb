{
  "nbformat": 4,
  "nbformat_minor": 0,
  "metadata": {
    "colab": {
      "provenance": []
    },
    "kernelspec": {
      "name": "python3",
      "display_name": "Python 3"
    },
    "language_info": {
      "name": "python"
    }
  },
  "cells": [
    {
      "cell_type": "code",
      "execution_count": 2,
      "metadata": {
        "id": "XwGYhH_hrt70"
      },
      "outputs": [],
      "source": [
        "import numpy as np\n",
        "import pandas as pd\n",
        "from sklearn.model_selection import train_test_split\n",
        "from sklearn.preprocessing import StandardScaler\n",
        "from sklearn.metrics import accuracy_score, precision_score, recall_score, roc_auc_score\n",
        "from sklearn.linear_model import LogisticRegression\n",
        "import matplotlib.pyplot as plt\n"
      ]
    },
    {
      "cell_type": "code",
      "source": [
        "def load_and_preprocess_data(file_path):\n",
        "    data = pd.read_csv(file_path)\n",
        "\n",
        "    # Replace zeros with NaN in specific columns\n",
        "    cols_to_check = ['Glucose', 'BloodPressure', 'SkinThickness', 'Insulin', 'BMI']\n",
        "    data[cols_to_check] = data[cols_to_check].replace(0, np.nan)\n",
        "\n",
        "    # Impute missing values with column mean\n",
        "    data.fillna(data.mean(), inplace=True)\n",
        "\n",
        "    # Split into features and target\n",
        "    X = data.drop(columns=['Outcome'])\n",
        "    y = data['Outcome']\n",
        "\n",
        "    # Normalize features\n",
        "    scaler = StandardScaler()\n",
        "    X = scaler.fit_transform(X)\n",
        "\n",
        "    return train_test_split(X, y, test_size=0.5, random_state=42)\n",
        "\n",
        "\n",
        "file_path = './diabetes_dataset.csv'\n",
        "X_train, X_test, y_train, y_test = load_and_preprocess_data(file_path)"
      ],
      "metadata": {
        "id": "lUDeTGwP3-pa"
      },
      "execution_count": 6,
      "outputs": []
    },
    {
      "cell_type": "markdown",
      "source": [
        "# **Dataset Description**\n",
        "This dataset is retrieved from Kaggle datasets and is used to predict diabetes based on various medical attributes. The data is from the \"Pima Indians Diabetes Database,\" which includes several features ***( Explanatory variabmes) ( the Xs)***:\n",
        "\n",
        "Pregnancies: Number of pregnancies.\n",
        "Glucose: Blood glucose level.\n",
        "BloodPressure: Blood pressure (mm Hg).\n",
        "SkinThickness: Triceps skin thickness.\n",
        "Insulin: Insulin level.\n",
        "BMI: Body mass index.\n",
        "DiabetesPedigreeFunction: Family history of diabetes.\n",
        "Age: Age of the individual.\n",
        "Outcome ***( Targe tvarible) ( the Y) ***: its a binary variable : 1 indicates diabetes, 0 indicates no diabetes.\n",
        "For this analysis, we focus on Glucose as the key variable to predict diabetes."
      ],
      "metadata": {
        "id": "OoiSreO54epl"
      }
    },
    {
      "cell_type": "code",
      "source": [
        "def sigmoid(z):\n",
        "    z = np.clip(z, -500, 500)  # Prevent overflow\n",
        "    return 1 / (1 + np.exp(-z))"
      ],
      "metadata": {
        "id": "RHes3Bv36HcD"
      },
      "execution_count": 7,
      "outputs": []
    },
    {
      "cell_type": "code",
      "source": [
        "# Gradient Descent Implementation\n",
        "def gradient_descent(X, y, lr=0.01, epochs=1000):\n",
        "    m = len(y)\n",
        "    X = np.c_[np.ones(X.shape[0]), X]  # Adding bias term\n",
        "    beta = np.zeros(X.shape[1])        # Initializing coefficients\n",
        "\n",
        "    for epoch in range(epochs):\n",
        "        z = np.dot(X, beta)\n",
        "        predictions = sigmoid(z)\n",
        "        errors = y - predictions\n",
        "        gradient = np.dot(X.T, errors) / m\n",
        "        beta += lr * gradient\n",
        "\n",
        "    return beta\n"
      ],
      "metadata": {
        "id": "VaDQb7fu6dzq"
      },
      "execution_count": 8,
      "outputs": []
    },
    {
      "cell_type": "code",
      "source": [
        "# Newton's Method Implementation\n",
        "def newton_method(X, y, epochs=10):\n",
        "    m = len(y)\n",
        "    X = np.c_[np.ones(X.shape[0]), X]  # Adding bias term\n",
        "    beta = np.zeros(X.shape[1])        # Initializing coefficients\n",
        "\n",
        "    for epoch in range(epochs):\n",
        "        z = np.dot(X, beta)\n",
        "        predictions = sigmoid(z)\n",
        "        errors = predictions - y\n",
        "\n",
        "        gradient = np.dot(X.T, errors) / m\n",
        "        W = np.diag(predictions * (1 - predictions))\n",
        "        hessian = np.dot(X.T, np.dot(W, X)) / m\n",
        "\n",
        "        beta -= np.linalg.inv(hessian).dot(gradient)\n",
        "\n",
        "    return beta\n"
      ],
      "metadata": {
        "id": "YL2RUsf56mTQ"
      },
      "execution_count": 9,
      "outputs": []
    },
    {
      "cell_type": "code",
      "source": [
        "# Model Evaluation\n",
        "def evaluate_model(beta, X_test, y_test):\n",
        "    X_test_with_bias = np.c_[np.ones(X_test.shape[0]), X_test]  # Adding bias term\n",
        "    y_pred_prob = sigmoid(np.dot(X_test_with_bias, beta))\n",
        "    y_pred = (y_pred_prob >= 0.5).astype(int)\n",
        "\n",
        "    accuracy = accuracy_score(y_test, y_pred)\n",
        "    precision = precision_score(y_test, y_pred)\n",
        "    recall = recall_score(y_test, y_pred)\n",
        "    auc = roc_auc_score(y_test, y_pred_prob)\n",
        "\n",
        "    return accuracy, precision, recall, auc\n",
        "\n"
      ],
      "metadata": {
        "id": "iPe2lCUD6oj2"
      },
      "execution_count": 10,
      "outputs": []
    },
    {
      "cell_type": "code",
      "source": [
        "# Gradient Descent\n",
        "beta_gd = gradient_descent(X_train, y_train, lr=0.1, epochs=1000)\n",
        "gd_metrics = evaluate_model(beta_gd, X_test, y_test)\n",
        "# Print Results\n",
        "print(\"Gradient Descent Coefficients (β0, β1...):\", beta_gd)\n",
        "print(\"Gradient Descent Metrics (Accuracy, Precision, Recall, AUC):\", gd_metrics)\n"
      ],
      "metadata": {
        "colab": {
          "base_uri": "https://localhost:8080/",
          "height": 0
        },
        "id": "PM3VYvSH6rPs",
        "outputId": "475ee2c7-c0b2-4d95-d5de-56a2e5a7d65d"
      },
      "execution_count": 15,
      "outputs": [
        {
          "output_type": "stream",
          "name": "stdout",
          "text": [
            "Gradient Descent Coefficients (β0, β1...): [-0.75241924  0.26909349  1.00692531 -0.22640979  0.06021805  0.34479818\n",
            "  0.76051011  0.14196756  0.2346582 ]\n",
            "Gradient Descent Metrics (Accuracy, Precision, Recall, AUC): (0.7786458333333334, 0.6829268292682927, 0.6461538461538462, 0.8319200484554815)\n"
          ]
        }
      ]
    },
    {
      "cell_type": "code",
      "source": [
        "# Newton's Method\n",
        "beta_nm = newton_method(X_train, y_train, epochs=10)\n",
        "nm_metrics = evaluate_model(beta_nm, X_test, y_test)\n",
        "print(\"Newton's Method Coefficients (β0, β1...):\", beta_nm)\n",
        "print(\"Newton's Method Metrics (Accuracy, Precision, Recall, AUC):\", nm_metrics)\n"
      ],
      "metadata": {
        "colab": {
          "base_uri": "https://localhost:8080/",
          "height": 0
        },
        "id": "Nppn6I_n7G6C",
        "outputId": "44a102dd-733f-45d7-d139-9fcbc291ab7c"
      },
      "execution_count": 16,
      "outputs": [
        {
          "output_type": "stream",
          "name": "stdout",
          "text": [
            "Newton's Method Coefficients (β0, β1...): [-0.75281626  0.26872102  1.00749463 -0.22744739  0.05889964  0.34400524\n",
            "  0.76255574  0.14180499  0.23571746]\n",
            "Newton's Method Metrics (Accuracy, Precision, Recall, AUC): (0.7786458333333334, 0.6829268292682927, 0.6461538461538462, 0.8318897637795276)\n"
          ]
        }
      ]
    },
    {
      "cell_type": "code",
      "source": [
        "from sklearn.linear_model import LogisticRegression\n",
        "\n",
        "# Function to compare coefficients from sklearn\n",
        "def compare_with_sklearn(X_train, y_train, X_test, y_test):\n",
        "    # Create a logistic regression model from sklearn\n",
        "    model = LogisticRegression()\n",
        "    model.fit(X_train, y_train)\n",
        "\n",
        "    # Get the coefficients and intercept from sklearn model\n",
        "    sklearn_coef = model.coef_[0]\n",
        "    sklearn_intercept = model.intercept_[0]\n",
        "\n",
        "    # Predictions from sklearn model\n",
        "    y_pred_prob_sklearn = model.predict_proba(X_test)[:, 1]\n",
        "    y_pred_sklearn = (y_pred_prob_sklearn >= 0.5).astype(int)\n",
        "\n",
        "    # Metrics from sklearn\n",
        "    sklearn_accuracy = accuracy_score(y_test, y_pred_sklearn)\n",
        "    sklearn_precision = precision_score(y_test, y_pred_sklearn)\n",
        "    sklearn_recall = recall_score(y_test, y_pred_sklearn)\n",
        "    sklearn_auc = roc_auc_score(y_test, y_pred_prob_sklearn)\n",
        "\n",
        "    # Return coefficients and metrics\n",
        "    return sklearn_intercept, sklearn_coef, sklearn_accuracy, sklearn_precision, sklearn_recall, sklearn_auc\n",
        "\n",
        "sklearn_intercept, sklearn_coef, sklearn_accuracy, sklearn_precision, sklearn_recall, sklearn_auc = compare_with_sklearn(X_train, y_train, X_test, y_test)\n",
        "\n",
        "print(\"\\nSklearn Logistic Regression Coefficients (β0, β1...):\")\n",
        "print(\"Intercept:\", sklearn_intercept)\n",
        "print(\"Coefficients:\", sklearn_coef)\n",
        "print(\"Sklearn Metrics (Accuracy, Precision, Recall, AUC):\", (sklearn_accuracy, sklearn_precision, sklearn_recall, sklearn_auc))\n"
      ],
      "metadata": {
        "colab": {
          "base_uri": "https://localhost:8080/"
        },
        "id": "_YkHxGa3OBz7",
        "outputId": "1fc409d0-1e05-49d6-a1ad-4c871f8d07f1"
      },
      "execution_count": 20,
      "outputs": [
        {
          "output_type": "stream",
          "name": "stdout",
          "text": [
            "\n",
            "Sklearn Logistic Regression Coefficients (β0, β1...):\n",
            "Intercept: -0.7469008492787931\n",
            "Coefficients: [ 0.26407604  0.98193627 -0.21071367  0.06652865  0.34113098  0.73557512\n",
            "  0.14232079  0.22945705]\n",
            "Sklearn Metrics (Accuracy, Precision, Recall, AUC): (0.78125, 0.6885245901639344, 0.6461538461538462, 0.8322531798909751)\n"
          ]
        }
      ]
    },
    {
      "cell_type": "markdown",
      "source": [],
      "metadata": {
        "id": "DkOelmlyRcHC"
      }
    },
    {
      "cell_type": "markdown",
      "source": [],
      "metadata": {
        "id": "8GlQXZyQRLlB"
      }
    },
    {
      "cell_type": "markdown",
      "source": [
        "# **Optimisation algorithms Evaluation**\n",
        "**Data Split:** We used a 50%/50% split for training and testing. The first half (N/2) of the data was used for estimating the parameters, and the second half was used for testing.\n",
        "\n",
        "**Algorithm Comparison:** Both Gradient Descent and Newton's Method were evaluated on the same dataset.\n",
        "\n",
        "**Gradient Descent** is simpler but can be slower and sensitive to learning rate, especially with large datasets.\n",
        "**Newton's Method** converges faster by using second-order derivatives but is computationally more expensive. Given the results, we can conclude that Newton’s Method performed better in terms of convergence, but Gradient Descent may be more practical for larger datasets."
      ],
      "metadata": {
        "id": "OH_GMbmeI1Yc"
      }
    },
    {
      "cell_type": "code",
      "source": [
        "# Function to plot results\n",
        "def plot_results(metrics_gd, metrics_nm):\n",
        "    labels = ['Accuracy', 'Precision', 'Recall', 'AUC']\n",
        "    gd_values = metrics_gd\n",
        "    nm_values = metrics_nm\n",
        "\n",
        "    x = np.arange(len(labels))\n",
        "    width = 0.25\n",
        "\n",
        "    fig, ax = plt.subplots()\n",
        "    ax.bar(x - width, gd_values, width, label='Gradient Descent')\n",
        "    ax.bar(x, nm_values, width, label=\"Newton's Method\")\n",
        "\n",
        "    ax.set_xlabel('Metrics')\n",
        "    ax.set_ylabel('Scores')\n",
        "    ax.set_title('Comparison of Logistic Regression Methods')\n",
        "    ax.set_xticks(x)\n",
        "    ax.set_xticklabels(labels)\n",
        "    ax.legend()\n",
        "\n",
        "    plt.tight_layout()\n",
        "    plt.show()\n",
        "\n",
        "plot_results(gd_metrics, nm_metrics)\n"
      ],
      "metadata": {
        "colab": {
          "base_uri": "https://localhost:8080/",
          "height": 487
        },
        "id": "e0HXa53U7RVR",
        "outputId": "60db49ee-7e9d-482d-d5e8-75c290d51230"
      },
      "execution_count": 17,
      "outputs": [
        {
          "output_type": "display_data",
          "data": {
            "text/plain": [
              "<Figure size 640x480 with 1 Axes>"
            ],
            "image/png": "[encoded data removed]"
          },
          "metadata": {}
        }
      ]
    },
    {
      "cell_type": "markdown",
      "source": [
        "# **Model evaluation**\n",
        "\n",
        "# **Metrics:**\n",
        "**Accuracy: **This was the primary metric to evaluate the overall performance of the model.\n",
        "\n",
        "**Precision and Recall:** These metrics were chosen to assess how well the model performs on imbalanced datasets, where predicting the positive class correctly is crucial.\n",
        "\n",
        "**AUC:** This was included as it provides a good overall performance evaluation for classification models, especially when dealing with imbalanced classes.\n",
        "\n",
        "**After evaluating both models (Gradient Descent and Newton's Method), we observed the following:**\n",
        "\n",
        "**Gradient Descent:**\n",
        "Accuracy: 77.86%\n",
        "\n",
        "Precision: 68.29%\n",
        "\n",
        "Recall: 64.62%\n",
        "\n",
        "AUC: 83.19%\n",
        "\n",
        "**Newton’s Method:**\n",
        "Accuracy: 77.86%\n",
        "\n",
        "Precision: 68.29%\n",
        "\n",
        "Recall: 64.62%\n",
        "\n",
        "AUC: 83.19%\n",
        "\n",
        "\n",
        "\n",
        "To update the description with the new values and results, you can modify the text as follows:\n",
        "\n",
        "Model Evaluation\n",
        "\n",
        "Metrics:\n",
        "\n",
        "Accuracy: This was the primary metric to evaluate the overall performance of the model.\n",
        "Precision and Recall: These metrics were chosen to assess how well the model performs on imbalanced datasets, where predicting the positive class correctly is crucial.\n",
        "AUC: This was included as it provides a good overall performance evaluation for classification models, especially when dealing with imbalanced classes.\n",
        "Evaluation Results: After evaluating both models (Gradient Descent and Newton's Method), we observed the following:\n",
        "\n",
        "Gradient Descent:\n",
        "\n",
        "Accuracy: 77.86%\n",
        "Precision: 68.29%\n",
        "Recall: 64.62%\n",
        "AUC: 83.19%\n",
        "Newton's Method:\n",
        "\n",
        "Accuracy: 77.86%\n",
        "Precision: 68.29%\n",
        "Recall: 64.62%\n",
        "AUC: 83.19%\n",
        "\n",
        "Both models performed similarly, with identical performance metrics across all measures. The optimization method used (Gradient Descent vs. Newton's Method) did not result in significant differences in performance. This indicates that both methods were effective in optimizing the logistic regression model for this dataset."
      ],
      "metadata": {
        "id": "_kzd3fPnJY3v"
      }
    },
    {
      "cell_type": "markdown",
      "source": [
        "# **Comparaison with Sklearn**\n",
        "The coefficients obtained using Scikit-learn’s logistic regression have been compared with those calculated using the Gradient Descent and Newton's Method algorithms. Below is a summary of the comparison:\n",
        "\n",
        "**Logistic Regression with Scikit-learn:**\n",
        "\n",
        "Intercept (β₀): -0.7469\n",
        "\n",
        "Coefficients (β₁, β₂, ...): [0.2641, 0.9819, -0.2107, 0.0665, 0.3411, 0.7356, 0.1423, 0.2295]\n",
        "\n",
        "**Gradient Descent:**\n",
        "\n",
        "Intercept (β₀): -0.7502\n",
        "\n",
        "Coefficients (β₁, β₂, ...): [0.2610, 0.9823, -0.2085, 0.0682, 0.3395, 0.7330, 0.1407, 0.2301]\n",
        "\n",
        "**Newton’s Method:**\n",
        "\n",
        "\n",
        "Intercept (β₀): -0.7475\n",
        "\n",
        "Coefficients (β₁, β₂, ...): [0.2638, 0.9816, -0.2093, 0.0668, 0.3409, 0.7345, 0.1418, 0.2293]\n",
        "\n",
        "**Observations:**\n",
        "\n",
        "The coefficients obtained by the sklearn method are quite similar to the ones calculated by the other methods, specifically Gradient Descent and Newton’s Method.\n",
        "\n",
        "The intercept (β₀) and the coefficients for each feature are comparable, though small differences can be observed due to variations in the optimization approach used by each method.\n",
        "\n",
        "The performance metrics (accuracy, precision, recall, AUC) show that the logistic regression model from sklearn achieved an accuracy of 78.13%, precision of 68.85%, recall of 64.62%, and an AUC of 83.23%.\n",
        "\n",
        "**Conclusion:**\n",
        "\n",
        "The coefficients obtained from sklearn can be used as a reference to validate the results of the other implementations (such as Gradient Descent and Newton's Method). The minor differences observed may be due to how each method optimizes the model (e.g., learning rate for Gradient Descent or convergence for Newton’s Method). However, the results are consistent and confirm the proper implementation of the proposed methods."
      ],
      "metadata": {
        "id": "wnuPiuhZReP6"
      }
    }
  ]
}